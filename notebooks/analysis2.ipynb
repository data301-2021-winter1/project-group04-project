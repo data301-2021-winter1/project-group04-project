{
 "cells": [
  {
   "cell_type": "markdown",
   "metadata": {},
   "source": [
    "# Shiobhan Bohach"
   ]
  },
  {
   "cell_type": "markdown",
   "metadata": {},
   "source": [
    "## Research question/interests\r",
    "I am interested to see which superheroes would make the ultimate Avengers team. I also want to see (if possible) which specific traits make one superhero stronger than the other."
   ]
  },
  {
   "cell_type": "code",
   "execution_count": 113,
   "metadata": {},
   "outputs": [
    {
     "data": {
      "text/html": [
       "<div>\n",
       "<style scoped>\n",
       "    .dataframe tbody tr th:only-of-type {\n",
       "        vertical-align: middle;\n",
       "    }\n",
       "\n",
       "    .dataframe tbody tr th {\n",
       "        vertical-align: top;\n",
       "    }\n",
       "\n",
       "    .dataframe thead th {\n",
       "        text-align: right;\n",
       "    }\n",
       "</style>\n",
       "<table border=\"1\" class=\"dataframe\">\n",
       "  <thead>\n",
       "    <tr style=\"text-align: right;\">\n",
       "      <th></th>\n",
       "      <th>name</th>\n",
       "      <th>real_name</th>\n",
       "      <th>full_name</th>\n",
       "      <th>overall_score</th>\n",
       "      <th>history_text</th>\n",
       "      <th>powers_text</th>\n",
       "      <th>intelligence_score</th>\n",
       "      <th>strength_score</th>\n",
       "      <th>speed_score</th>\n",
       "      <th>durability_score</th>\n",
       "      <th>...</th>\n",
       "      <th>has_flight</th>\n",
       "      <th>has_accelerated_healing</th>\n",
       "      <th>has_weapons_master</th>\n",
       "      <th>has_intelligence</th>\n",
       "      <th>has_reflexes</th>\n",
       "      <th>has_super_speed</th>\n",
       "      <th>has_durability</th>\n",
       "      <th>has_stamina</th>\n",
       "      <th>has_agility</th>\n",
       "      <th>has_super_strength</th>\n",
       "    </tr>\n",
       "  </thead>\n",
       "  <tbody>\n",
       "    <tr>\n",
       "      <th>0</th>\n",
       "      <td>3-D Man</td>\n",
       "      <td>Delroy Garrett, Jr.</td>\n",
       "      <td>Delroy Garrett, Jr.</td>\n",
       "      <td>6</td>\n",
       "      <td>Delroy Garrett, Jr. grew up to become a track ...</td>\n",
       "      <td>NaN</td>\n",
       "      <td>85</td>\n",
       "      <td>30</td>\n",
       "      <td>60</td>\n",
       "      <td>60</td>\n",
       "      <td>...</td>\n",
       "      <td>0.0</td>\n",
       "      <td>0.0</td>\n",
       "      <td>0.0</td>\n",
       "      <td>0.0</td>\n",
       "      <td>0.0</td>\n",
       "      <td>1.0</td>\n",
       "      <td>0.0</td>\n",
       "      <td>0.0</td>\n",
       "      <td>0.0</td>\n",
       "      <td>1.0</td>\n",
       "    </tr>\n",
       "    <tr>\n",
       "      <th>1</th>\n",
       "      <td>514A (Gotham)</td>\n",
       "      <td>Bruce Wayne</td>\n",
       "      <td>NaN</td>\n",
       "      <td>10</td>\n",
       "      <td>He was one of the many prisoners of Indian Hil...</td>\n",
       "      <td>NaN</td>\n",
       "      <td>100</td>\n",
       "      <td>20</td>\n",
       "      <td>30</td>\n",
       "      <td>50</td>\n",
       "      <td>...</td>\n",
       "      <td>0.0</td>\n",
       "      <td>0.0</td>\n",
       "      <td>0.0</td>\n",
       "      <td>0.0</td>\n",
       "      <td>1.0</td>\n",
       "      <td>0.0</td>\n",
       "      <td>1.0</td>\n",
       "      <td>0.0</td>\n",
       "      <td>0.0</td>\n",
       "      <td>1.0</td>\n",
       "    </tr>\n",
       "    <tr>\n",
       "      <th>2</th>\n",
       "      <td>A-Bomb</td>\n",
       "      <td>Richard Milhouse Jones</td>\n",
       "      <td>Richard Milhouse Jones</td>\n",
       "      <td>20</td>\n",
       "      <td>Richard \"Rick\" Jones was orphaned at a young ...</td>\n",
       "      <td>On rare occasions, and through unusual circu...</td>\n",
       "      <td>80</td>\n",
       "      <td>100</td>\n",
       "      <td>80</td>\n",
       "      <td>100</td>\n",
       "      <td>...</td>\n",
       "      <td>0.0</td>\n",
       "      <td>1.0</td>\n",
       "      <td>0.0</td>\n",
       "      <td>0.0</td>\n",
       "      <td>1.0</td>\n",
       "      <td>1.0</td>\n",
       "      <td>1.0</td>\n",
       "      <td>1.0</td>\n",
       "      <td>1.0</td>\n",
       "      <td>1.0</td>\n",
       "    </tr>\n",
       "    <tr>\n",
       "      <th>3</th>\n",
       "      <td>Aa</td>\n",
       "      <td>Aa</td>\n",
       "      <td>NaN</td>\n",
       "      <td>12</td>\n",
       "      <td>Aa is one of the more passive members of the P...</td>\n",
       "      <td>NaN</td>\n",
       "      <td>80</td>\n",
       "      <td>50</td>\n",
       "      <td>55</td>\n",
       "      <td>45</td>\n",
       "      <td>...</td>\n",
       "      <td>0.0</td>\n",
       "      <td>0.0</td>\n",
       "      <td>0.0</td>\n",
       "      <td>0.0</td>\n",
       "      <td>0.0</td>\n",
       "      <td>0.0</td>\n",
       "      <td>0.0</td>\n",
       "      <td>0.0</td>\n",
       "      <td>0.0</td>\n",
       "      <td>0.0</td>\n",
       "    </tr>\n",
       "    <tr>\n",
       "      <th>4</th>\n",
       "      <td>Aaron Cash</td>\n",
       "      <td>Aaron Cash</td>\n",
       "      <td>Aaron Cash</td>\n",
       "      <td>5</td>\n",
       "      <td>Aaron Cash is the head of security at Arkham A...</td>\n",
       "      <td>NaN</td>\n",
       "      <td>80</td>\n",
       "      <td>10</td>\n",
       "      <td>25</td>\n",
       "      <td>40</td>\n",
       "      <td>...</td>\n",
       "      <td>0.0</td>\n",
       "      <td>0.0</td>\n",
       "      <td>1.0</td>\n",
       "      <td>0.0</td>\n",
       "      <td>0.0</td>\n",
       "      <td>0.0</td>\n",
       "      <td>0.0</td>\n",
       "      <td>0.0</td>\n",
       "      <td>0.0</td>\n",
       "      <td>0.0</td>\n",
       "    </tr>\n",
       "    <tr>\n",
       "      <th>...</th>\n",
       "      <td>...</td>\n",
       "      <td>...</td>\n",
       "      <td>...</td>\n",
       "      <td>...</td>\n",
       "      <td>...</td>\n",
       "      <td>...</td>\n",
       "      <td>...</td>\n",
       "      <td>...</td>\n",
       "      <td>...</td>\n",
       "      <td>...</td>\n",
       "      <td>...</td>\n",
       "      <td>...</td>\n",
       "      <td>...</td>\n",
       "      <td>...</td>\n",
       "      <td>...</td>\n",
       "      <td>...</td>\n",
       "      <td>...</td>\n",
       "      <td>...</td>\n",
       "      <td>...</td>\n",
       "      <td>...</td>\n",
       "      <td>...</td>\n",
       "    </tr>\n",
       "    <tr>\n",
       "      <th>1445</th>\n",
       "      <td>Zatanna</td>\n",
       "      <td>Zatanna Zatara</td>\n",
       "      <td>Zatanna Zatara</td>\n",
       "      <td>10</td>\n",
       "      <td>Zatanna is the daughter of adventurer John Zat...</td>\n",
       "      <td>Zatanna is genetically talented with her magi...</td>\n",
       "      <td>90</td>\n",
       "      <td>10</td>\n",
       "      <td>25</td>\n",
       "      <td>30</td>\n",
       "      <td>...</td>\n",
       "      <td>0.0</td>\n",
       "      <td>0.0</td>\n",
       "      <td>0.0</td>\n",
       "      <td>0.0</td>\n",
       "      <td>0.0</td>\n",
       "      <td>0.0</td>\n",
       "      <td>0.0</td>\n",
       "      <td>0.0</td>\n",
       "      <td>0.0</td>\n",
       "      <td>0.0</td>\n",
       "    </tr>\n",
       "    <tr>\n",
       "      <th>1446</th>\n",
       "      <td>Zero</td>\n",
       "      <td>DWN-∞: Zero</td>\n",
       "      <td>DWN-∞: Zero</td>\n",
       "      <td>18</td>\n",
       "      <td>Zero was created by the late Dr. Albert Wily ...</td>\n",
       "      <td>NaN</td>\n",
       "      <td>80</td>\n",
       "      <td>100</td>\n",
       "      <td>100</td>\n",
       "      <td>100</td>\n",
       "      <td>...</td>\n",
       "      <td>0.0</td>\n",
       "      <td>1.0</td>\n",
       "      <td>1.0</td>\n",
       "      <td>1.0</td>\n",
       "      <td>1.0</td>\n",
       "      <td>1.0</td>\n",
       "      <td>1.0</td>\n",
       "      <td>1.0</td>\n",
       "      <td>1.0</td>\n",
       "      <td>1.0</td>\n",
       "    </tr>\n",
       "    <tr>\n",
       "      <th>1447</th>\n",
       "      <td>Zoom (New 52)</td>\n",
       "      <td>Hunter Zolomon</td>\n",
       "      <td>NaN</td>\n",
       "      <td>20</td>\n",
       "      <td>Hunter Zolomon is better known as Zoom, a spee...</td>\n",
       "      <td>After tricking Barry Allen and Wally West into...</td>\n",
       "      <td>95</td>\n",
       "      <td>50</td>\n",
       "      <td>100</td>\n",
       "      <td>75</td>\n",
       "      <td>...</td>\n",
       "      <td>0.0</td>\n",
       "      <td>1.0</td>\n",
       "      <td>0.0</td>\n",
       "      <td>1.0</td>\n",
       "      <td>1.0</td>\n",
       "      <td>1.0</td>\n",
       "      <td>1.0</td>\n",
       "      <td>1.0</td>\n",
       "      <td>1.0</td>\n",
       "      <td>1.0</td>\n",
       "    </tr>\n",
       "    <tr>\n",
       "      <th>1448</th>\n",
       "      <td>Zoom</td>\n",
       "      <td>Hunter Zolomon</td>\n",
       "      <td>Hunter Zolomon</td>\n",
       "      <td>9</td>\n",
       "      <td>Hunter Zolomon had a troubled relationship wi...</td>\n",
       "      <td>Zoom is able to alter time, to make himself ev...</td>\n",
       "      <td>75</td>\n",
       "      <td>10</td>\n",
       "      <td>100</td>\n",
       "      <td>30</td>\n",
       "      <td>...</td>\n",
       "      <td>0.0</td>\n",
       "      <td>0.0</td>\n",
       "      <td>0.0</td>\n",
       "      <td>0.0</td>\n",
       "      <td>0.0</td>\n",
       "      <td>1.0</td>\n",
       "      <td>0.0</td>\n",
       "      <td>0.0</td>\n",
       "      <td>0.0</td>\n",
       "      <td>0.0</td>\n",
       "    </tr>\n",
       "    <tr>\n",
       "      <th>1449</th>\n",
       "      <td>Zzzax</td>\n",
       "      <td>NaN</td>\n",
       "      <td>NaN</td>\n",
       "      <td>5</td>\n",
       "      <td>Zzzax was the product of an accident that occu...</td>\n",
       "      <td>NaN</td>\n",
       "      <td>45</td>\n",
       "      <td>80</td>\n",
       "      <td>75</td>\n",
       "      <td>95</td>\n",
       "      <td>...</td>\n",
       "      <td>1.0</td>\n",
       "      <td>0.0</td>\n",
       "      <td>0.0</td>\n",
       "      <td>0.0</td>\n",
       "      <td>0.0</td>\n",
       "      <td>1.0</td>\n",
       "      <td>0.0</td>\n",
       "      <td>0.0</td>\n",
       "      <td>1.0</td>\n",
       "      <td>1.0</td>\n",
       "    </tr>\n",
       "  </tbody>\n",
       "</table>\n",
       "<p>1450 rows × 81 columns</p>\n",
       "</div>"
      ],
      "text/plain": [
       "               name               real_name               full_name  \\\n",
       "0           3-D Man     Delroy Garrett, Jr.     Delroy Garrett, Jr.   \n",
       "1     514A (Gotham)             Bruce Wayne                     NaN   \n",
       "2            A-Bomb  Richard Milhouse Jones  Richard Milhouse Jones   \n",
       "3                Aa                      Aa                     NaN   \n",
       "4        Aaron Cash              Aaron Cash              Aaron Cash   \n",
       "...             ...                     ...                     ...   \n",
       "1445        Zatanna          Zatanna Zatara          Zatanna Zatara   \n",
       "1446           Zero             DWN-∞: Zero             DWN-∞: Zero   \n",
       "1447  Zoom (New 52)          Hunter Zolomon                     NaN   \n",
       "1448           Zoom          Hunter Zolomon          Hunter Zolomon   \n",
       "1449          Zzzax                     NaN                     NaN   \n",
       "\n",
       "     overall_score                                       history_text  \\\n",
       "0                6  Delroy Garrett, Jr. grew up to become a track ...   \n",
       "1               10  He was one of the many prisoners of Indian Hil...   \n",
       "2               20   Richard \"Rick\" Jones was orphaned at a young ...   \n",
       "3               12  Aa is one of the more passive members of the P...   \n",
       "4                5  Aaron Cash is the head of security at Arkham A...   \n",
       "...            ...                                                ...   \n",
       "1445            10  Zatanna is the daughter of adventurer John Zat...   \n",
       "1446            18   Zero was created by the late Dr. Albert Wily ...   \n",
       "1447            20  Hunter Zolomon is better known as Zoom, a spee...   \n",
       "1448             9   Hunter Zolomon had a troubled relationship wi...   \n",
       "1449             5  Zzzax was the product of an accident that occu...   \n",
       "\n",
       "                                            powers_text  intelligence_score  \\\n",
       "0                                                   NaN                  85   \n",
       "1                                                   NaN                 100   \n",
       "2       On rare occasions, and through unusual circu...                  80   \n",
       "3                                                   NaN                  80   \n",
       "4                                                   NaN                  80   \n",
       "...                                                 ...                 ...   \n",
       "1445   Zatanna is genetically talented with her magi...                  90   \n",
       "1446                                                NaN                  80   \n",
       "1447  After tricking Barry Allen and Wally West into...                  95   \n",
       "1448  Zoom is able to alter time, to make himself ev...                  75   \n",
       "1449                                                NaN                  45   \n",
       "\n",
       "      strength_score  speed_score  durability_score  ...  has_flight  \\\n",
       "0                 30           60                60  ...         0.0   \n",
       "1                 20           30                50  ...         0.0   \n",
       "2                100           80               100  ...         0.0   \n",
       "3                 50           55                45  ...         0.0   \n",
       "4                 10           25                40  ...         0.0   \n",
       "...              ...          ...               ...  ...         ...   \n",
       "1445              10           25                30  ...         0.0   \n",
       "1446             100          100               100  ...         0.0   \n",
       "1447              50          100                75  ...         0.0   \n",
       "1448              10          100                30  ...         0.0   \n",
       "1449              80           75                95  ...         1.0   \n",
       "\n",
       "      has_accelerated_healing has_weapons_master has_intelligence  \\\n",
       "0                         0.0                0.0              0.0   \n",
       "1                         0.0                0.0              0.0   \n",
       "2                         1.0                0.0              0.0   \n",
       "3                         0.0                0.0              0.0   \n",
       "4                         0.0                1.0              0.0   \n",
       "...                       ...                ...              ...   \n",
       "1445                      0.0                0.0              0.0   \n",
       "1446                      1.0                1.0              1.0   \n",
       "1447                      1.0                0.0              1.0   \n",
       "1448                      0.0                0.0              0.0   \n",
       "1449                      0.0                0.0              0.0   \n",
       "\n",
       "     has_reflexes has_super_speed has_durability has_stamina has_agility  \\\n",
       "0             0.0             1.0            0.0         0.0         0.0   \n",
       "1             1.0             0.0            1.0         0.0         0.0   \n",
       "2             1.0             1.0            1.0         1.0         1.0   \n",
       "3             0.0             0.0            0.0         0.0         0.0   \n",
       "4             0.0             0.0            0.0         0.0         0.0   \n",
       "...           ...             ...            ...         ...         ...   \n",
       "1445          0.0             0.0            0.0         0.0         0.0   \n",
       "1446          1.0             1.0            1.0         1.0         1.0   \n",
       "1447          1.0             1.0            1.0         1.0         1.0   \n",
       "1448          0.0             1.0            0.0         0.0         0.0   \n",
       "1449          0.0             1.0            0.0         0.0         1.0   \n",
       "\n",
       "     has_super_strength  \n",
       "0                   1.0  \n",
       "1                   1.0  \n",
       "2                   1.0  \n",
       "3                   0.0  \n",
       "4                   0.0  \n",
       "...                 ...  \n",
       "1445                0.0  \n",
       "1446                1.0  \n",
       "1447                1.0  \n",
       "1448                0.0  \n",
       "1449                1.0  \n",
       "\n",
       "[1450 rows x 81 columns]"
      ]
     },
     "execution_count": 113,
     "metadata": {},
     "output_type": "execute_result"
    }
   ],
   "source": [
    "import pandas as pd\n",
    "pd.read_csv(\"../data/raw/superheroes_nlp_dataset.csv\")"
   ]
  },
  {
   "cell_type": "markdown",
   "metadata": {},
   "source": [
    "## Milestone 3 (with edits for Milestone 5)"
   ]
  },
  {
   "cell_type": "code",
   "execution_count": 114,
   "metadata": {},
   "outputs": [
    {
     "data": {
      "text/plain": [
       "Index(['name', 'real_name', 'full_name', 'overall_score', 'history_text',\n",
       "       'powers_text', 'intelligence_score', 'strength_score', 'speed_score',\n",
       "       'durability_score', 'power_score', 'combat_score', 'superpowers',\n",
       "       'alter_egos', 'aliases', 'place_of_birth', 'first_appearance',\n",
       "       'creator', 'alignment', 'occupation', 'base', 'teams', 'relatives',\n",
       "       'gender', 'type_race', 'height', 'weight', 'eye_color', 'hair_color',\n",
       "       'skin_color', 'img', 'has_electrokinesis', 'has_energy_constructs',\n",
       "       'has_mind_control_resistance', 'has_matter_manipulation',\n",
       "       'has_telepathy_resistance', 'has_mind_control', 'has_enhanced_hearing',\n",
       "       'has_dimensional_travel', 'has_element_control', 'has_size_changing',\n",
       "       'has_fire_resistance', 'has_fire_control', 'has_dexterity',\n",
       "       'has_reality_warping', 'has_illusions', 'has_energy_beams',\n",
       "       'has_peak_human_condition', 'has_shapeshifting', 'has_heat_resistance',\n",
       "       'has_jump', 'has_self-sustenance', 'has_energy_absorption',\n",
       "       'has_cold_resistance', 'has_magic', 'has_telekinesis',\n",
       "       'has_toxin_and_disease_resistance', 'has_telepathy', 'has_regeneration',\n",
       "       'has_immortality', 'has_teleportation', 'has_force_fields',\n",
       "       'has_energy_manipulation', 'has_endurance', 'has_longevity',\n",
       "       'has_weapon-based_powers', 'has_energy_blasts', 'has_enhanced_senses',\n",
       "       'has_invulnerability', 'has_stealth', 'has_marksmanship', 'has_flight',\n",
       "       'has_accelerated_healing', 'has_weapons_master', 'has_intelligence',\n",
       "       'has_reflexes', 'has_super_speed', 'has_durability', 'has_stamina',\n",
       "       'has_agility', 'has_super_strength'],\n",
       "      dtype='object')"
      ]
     },
     "execution_count": 114,
     "metadata": {},
     "output_type": "execute_result"
    }
   ],
   "source": [
    "import pandas as pd\n",
    "import numpy as np\n",
    "import matplotlib\n",
    "import matplotlib.pyplot as plt\n",
    "import seaborn as sns\n",
    "%matplotlib inline\n",
    "avengers = pd.read_csv(\"/Users/shiobhanbohach/school/school/year3/project-group04-project/data/raw/superheroes_nlp_dataset.csv\")\n",
    "avengers.shape\n",
    "avengers.head()\n",
    "avengers.columns"
   ]
  },
  {
   "cell_type": "code",
   "execution_count": null,
   "metadata": {},
   "outputs": [],
   "source": []
  },
  {
   "cell_type": "code",
   "execution_count": 115,
   "metadata": {},
   "outputs": [
    {
     "name": "stdout",
     "output_type": "stream",
     "text": [
      "<class 'pandas.core.frame.DataFrame'>\n",
      "RangeIndex: 1450 entries, 0 to 1449\n",
      "Data columns (total 81 columns):\n",
      " #   Column                            Non-Null Count  Dtype  \n",
      "---  ------                            --------------  -----  \n",
      " 0   name                              1448 non-null   object \n",
      " 1   real_name                         1301 non-null   object \n",
      " 2   full_name                         956 non-null    object \n",
      " 3   overall_score                     1450 non-null   object \n",
      " 4   history_text                      1360 non-null   object \n",
      " 5   powers_text                       1086 non-null   object \n",
      " 6   intelligence_score                1450 non-null   int64  \n",
      " 7   strength_score                    1450 non-null   int64  \n",
      " 8   speed_score                       1450 non-null   int64  \n",
      " 9   durability_score                  1450 non-null   int64  \n",
      " 10  power_score                       1450 non-null   int64  \n",
      " 11  combat_score                      1450 non-null   int64  \n",
      " 12  superpowers                       1450 non-null   object \n",
      " 13  alter_egos                        1450 non-null   object \n",
      " 14  aliases                           1450 non-null   object \n",
      " 15  place_of_birth                    788 non-null    object \n",
      " 16  first_appearance                  1247 non-null   object \n",
      " 17  creator                           1311 non-null   object \n",
      " 18  alignment                         1368 non-null   object \n",
      " 19  occupation                        1014 non-null   object \n",
      " 20  base                              878 non-null    object \n",
      " 21  teams                             1450 non-null   object \n",
      " 22  relatives                         901 non-null    object \n",
      " 23  gender                            1305 non-null   object \n",
      " 24  type_race                         1043 non-null   object \n",
      " 25  height                            1448 non-null   object \n",
      " 26  weight                            1448 non-null   object \n",
      " 27  eye_color                         1186 non-null   object \n",
      " 28  hair_color                        1202 non-null   object \n",
      " 29  skin_color                        173 non-null    object \n",
      " 30  img                               1363 non-null   object \n",
      " 31  has_electrokinesis                1383 non-null   float64\n",
      " 32  has_energy_constructs             1383 non-null   float64\n",
      " 33  has_mind_control_resistance       1383 non-null   float64\n",
      " 34  has_matter_manipulation           1383 non-null   float64\n",
      " 35  has_telepathy_resistance          1383 non-null   float64\n",
      " 36  has_mind_control                  1383 non-null   float64\n",
      " 37  has_enhanced_hearing              1383 non-null   float64\n",
      " 38  has_dimensional_travel            1383 non-null   float64\n",
      " 39  has_element_control               1383 non-null   float64\n",
      " 40  has_size_changing                 1383 non-null   float64\n",
      " 41  has_fire_resistance               1383 non-null   float64\n",
      " 42  has_fire_control                  1383 non-null   float64\n",
      " 43  has_dexterity                     1383 non-null   float64\n",
      " 44  has_reality_warping               1383 non-null   float64\n",
      " 45  has_illusions                     1383 non-null   float64\n",
      " 46  has_energy_beams                  1383 non-null   float64\n",
      " 47  has_peak_human_condition          1383 non-null   float64\n",
      " 48  has_shapeshifting                 1383 non-null   float64\n",
      " 49  has_heat_resistance               1383 non-null   float64\n",
      " 50  has_jump                          1383 non-null   float64\n",
      " 51  has_self-sustenance               1383 non-null   float64\n",
      " 52  has_energy_absorption             1383 non-null   float64\n",
      " 53  has_cold_resistance               1383 non-null   float64\n",
      " 54  has_magic                         1383 non-null   float64\n",
      " 55  has_telekinesis                   1383 non-null   float64\n",
      " 56  has_toxin_and_disease_resistance  1383 non-null   float64\n",
      " 57  has_telepathy                     1383 non-null   float64\n",
      " 58  has_regeneration                  1383 non-null   float64\n",
      " 59  has_immortality                   1383 non-null   float64\n",
      " 60  has_teleportation                 1383 non-null   float64\n",
      " 61  has_force_fields                  1383 non-null   float64\n",
      " 62  has_energy_manipulation           1383 non-null   float64\n",
      " 63  has_endurance                     1383 non-null   float64\n",
      " 64  has_longevity                     1383 non-null   float64\n",
      " 65  has_weapon-based_powers           1383 non-null   float64\n",
      " 66  has_energy_blasts                 1383 non-null   float64\n",
      " 67  has_enhanced_senses               1383 non-null   float64\n",
      " 68  has_invulnerability               1383 non-null   float64\n",
      " 69  has_stealth                       1383 non-null   float64\n",
      " 70  has_marksmanship                  1383 non-null   float64\n",
      " 71  has_flight                        1383 non-null   float64\n",
      " 72  has_accelerated_healing           1383 non-null   float64\n",
      " 73  has_weapons_master                1383 non-null   float64\n",
      " 74  has_intelligence                  1383 non-null   float64\n",
      " 75  has_reflexes                      1383 non-null   float64\n",
      " 76  has_super_speed                   1383 non-null   float64\n",
      " 77  has_durability                    1383 non-null   float64\n",
      " 78  has_stamina                       1383 non-null   float64\n",
      " 79  has_agility                       1383 non-null   float64\n",
      " 80  has_super_strength                1383 non-null   float64\n",
      "dtypes: float64(50), int64(6), object(25)\n",
      "memory usage: 917.7+ KB\n"
     ]
    },
    {
     "data": {
      "text/html": [
       "<div>\n",
       "<style scoped>\n",
       "    .dataframe tbody tr th:only-of-type {\n",
       "        vertical-align: middle;\n",
       "    }\n",
       "\n",
       "    .dataframe tbody tr th {\n",
       "        vertical-align: top;\n",
       "    }\n",
       "\n",
       "    .dataframe thead th {\n",
       "        text-align: right;\n",
       "    }\n",
       "</style>\n",
       "<table border=\"1\" class=\"dataframe\">\n",
       "  <thead>\n",
       "    <tr style=\"text-align: right;\">\n",
       "      <th></th>\n",
       "      <th>name</th>\n",
       "      <th>real_name</th>\n",
       "      <th>full_name</th>\n",
       "      <th>overall_score</th>\n",
       "      <th>history_text</th>\n",
       "      <th>powers_text</th>\n",
       "      <th>intelligence_score</th>\n",
       "      <th>strength_score</th>\n",
       "      <th>speed_score</th>\n",
       "      <th>durability_score</th>\n",
       "      <th>...</th>\n",
       "      <th>has_flight</th>\n",
       "      <th>has_accelerated_healing</th>\n",
       "      <th>has_weapons_master</th>\n",
       "      <th>has_intelligence</th>\n",
       "      <th>has_reflexes</th>\n",
       "      <th>has_super_speed</th>\n",
       "      <th>has_durability</th>\n",
       "      <th>has_stamina</th>\n",
       "      <th>has_agility</th>\n",
       "      <th>has_super_strength</th>\n",
       "    </tr>\n",
       "  </thead>\n",
       "  <tbody>\n",
       "    <tr>\n",
       "      <th>0</th>\n",
       "      <td>3-D Man</td>\n",
       "      <td>Delroy Garrett, Jr.</td>\n",
       "      <td>Delroy Garrett, Jr.</td>\n",
       "      <td>6</td>\n",
       "      <td>Delroy Garrett, Jr. grew up to become a track ...</td>\n",
       "      <td>NaN</td>\n",
       "      <td>85</td>\n",
       "      <td>30</td>\n",
       "      <td>60</td>\n",
       "      <td>60</td>\n",
       "      <td>...</td>\n",
       "      <td>0.0</td>\n",
       "      <td>0.0</td>\n",
       "      <td>0.0</td>\n",
       "      <td>0.0</td>\n",
       "      <td>0.0</td>\n",
       "      <td>1.0</td>\n",
       "      <td>0.0</td>\n",
       "      <td>0.0</td>\n",
       "      <td>0.0</td>\n",
       "      <td>1.0</td>\n",
       "    </tr>\n",
       "    <tr>\n",
       "      <th>1</th>\n",
       "      <td>514A (Gotham)</td>\n",
       "      <td>Bruce Wayne</td>\n",
       "      <td>NaN</td>\n",
       "      <td>10</td>\n",
       "      <td>He was one of the many prisoners of Indian Hil...</td>\n",
       "      <td>NaN</td>\n",
       "      <td>100</td>\n",
       "      <td>20</td>\n",
       "      <td>30</td>\n",
       "      <td>50</td>\n",
       "      <td>...</td>\n",
       "      <td>0.0</td>\n",
       "      <td>0.0</td>\n",
       "      <td>0.0</td>\n",
       "      <td>0.0</td>\n",
       "      <td>1.0</td>\n",
       "      <td>0.0</td>\n",
       "      <td>1.0</td>\n",
       "      <td>0.0</td>\n",
       "      <td>0.0</td>\n",
       "      <td>1.0</td>\n",
       "    </tr>\n",
       "    <tr>\n",
       "      <th>2</th>\n",
       "      <td>A-Bomb</td>\n",
       "      <td>Richard Milhouse Jones</td>\n",
       "      <td>Richard Milhouse Jones</td>\n",
       "      <td>20</td>\n",
       "      <td>Richard \"Rick\" Jones was orphaned at a young ...</td>\n",
       "      <td>On rare occasions, and through unusual circu...</td>\n",
       "      <td>80</td>\n",
       "      <td>100</td>\n",
       "      <td>80</td>\n",
       "      <td>100</td>\n",
       "      <td>...</td>\n",
       "      <td>0.0</td>\n",
       "      <td>1.0</td>\n",
       "      <td>0.0</td>\n",
       "      <td>0.0</td>\n",
       "      <td>1.0</td>\n",
       "      <td>1.0</td>\n",
       "      <td>1.0</td>\n",
       "      <td>1.0</td>\n",
       "      <td>1.0</td>\n",
       "      <td>1.0</td>\n",
       "    </tr>\n",
       "    <tr>\n",
       "      <th>3</th>\n",
       "      <td>Aa</td>\n",
       "      <td>Aa</td>\n",
       "      <td>NaN</td>\n",
       "      <td>12</td>\n",
       "      <td>Aa is one of the more passive members of the P...</td>\n",
       "      <td>NaN</td>\n",
       "      <td>80</td>\n",
       "      <td>50</td>\n",
       "      <td>55</td>\n",
       "      <td>45</td>\n",
       "      <td>...</td>\n",
       "      <td>0.0</td>\n",
       "      <td>0.0</td>\n",
       "      <td>0.0</td>\n",
       "      <td>0.0</td>\n",
       "      <td>0.0</td>\n",
       "      <td>0.0</td>\n",
       "      <td>0.0</td>\n",
       "      <td>0.0</td>\n",
       "      <td>0.0</td>\n",
       "      <td>0.0</td>\n",
       "    </tr>\n",
       "    <tr>\n",
       "      <th>4</th>\n",
       "      <td>Aaron Cash</td>\n",
       "      <td>Aaron Cash</td>\n",
       "      <td>Aaron Cash</td>\n",
       "      <td>5</td>\n",
       "      <td>Aaron Cash is the head of security at Arkham A...</td>\n",
       "      <td>NaN</td>\n",
       "      <td>80</td>\n",
       "      <td>10</td>\n",
       "      <td>25</td>\n",
       "      <td>40</td>\n",
       "      <td>...</td>\n",
       "      <td>0.0</td>\n",
       "      <td>0.0</td>\n",
       "      <td>1.0</td>\n",
       "      <td>0.0</td>\n",
       "      <td>0.0</td>\n",
       "      <td>0.0</td>\n",
       "      <td>0.0</td>\n",
       "      <td>0.0</td>\n",
       "      <td>0.0</td>\n",
       "      <td>0.0</td>\n",
       "    </tr>\n",
       "  </tbody>\n",
       "</table>\n",
       "<p>5 rows × 81 columns</p>\n",
       "</div>"
      ],
      "text/plain": [
       "            name               real_name               full_name  \\\n",
       "0        3-D Man     Delroy Garrett, Jr.     Delroy Garrett, Jr.   \n",
       "1  514A (Gotham)             Bruce Wayne                     NaN   \n",
       "2         A-Bomb  Richard Milhouse Jones  Richard Milhouse Jones   \n",
       "3             Aa                      Aa                     NaN   \n",
       "4     Aaron Cash              Aaron Cash              Aaron Cash   \n",
       "\n",
       "  overall_score                                       history_text  \\\n",
       "0             6  Delroy Garrett, Jr. grew up to become a track ...   \n",
       "1            10  He was one of the many prisoners of Indian Hil...   \n",
       "2            20   Richard \"Rick\" Jones was orphaned at a young ...   \n",
       "3            12  Aa is one of the more passive members of the P...   \n",
       "4             5  Aaron Cash is the head of security at Arkham A...   \n",
       "\n",
       "                                         powers_text  intelligence_score  \\\n",
       "0                                                NaN                  85   \n",
       "1                                                NaN                 100   \n",
       "2    On rare occasions, and through unusual circu...                  80   \n",
       "3                                                NaN                  80   \n",
       "4                                                NaN                  80   \n",
       "\n",
       "   strength_score  speed_score  durability_score  ...  has_flight  \\\n",
       "0              30           60                60  ...         0.0   \n",
       "1              20           30                50  ...         0.0   \n",
       "2             100           80               100  ...         0.0   \n",
       "3              50           55                45  ...         0.0   \n",
       "4              10           25                40  ...         0.0   \n",
       "\n",
       "   has_accelerated_healing has_weapons_master has_intelligence has_reflexes  \\\n",
       "0                      0.0                0.0              0.0          0.0   \n",
       "1                      0.0                0.0              0.0          1.0   \n",
       "2                      1.0                0.0              0.0          1.0   \n",
       "3                      0.0                0.0              0.0          0.0   \n",
       "4                      0.0                1.0              0.0          0.0   \n",
       "\n",
       "  has_super_speed has_durability has_stamina has_agility has_super_strength  \n",
       "0             1.0            0.0         0.0         0.0                1.0  \n",
       "1             0.0            1.0         0.0         0.0                1.0  \n",
       "2             1.0            1.0         1.0         1.0                1.0  \n",
       "3             0.0            0.0         0.0         0.0                0.0  \n",
       "4             0.0            0.0         0.0         0.0                0.0  \n",
       "\n",
       "[5 rows x 81 columns]"
      ]
     },
     "execution_count": 115,
     "metadata": {},
     "output_type": "execute_result"
    }
   ],
   "source": [
    "avengers.info()\n",
    "avengers.head()"
   ]
  },
  {
   "cell_type": "markdown",
   "metadata": {
    "tags": []
   },
   "source": [
    "Because I am interested in which superheroes would make the strongest avenger team, I am most interested in data relating to their strength & powers, rather than their backstory"
   ]
  },
  {
   "cell_type": "markdown",
   "metadata": {},
   "source": [
    "To simplify the data, I will be looking at my research question from the standpoint of overall scores, so will remove all individual score data"
   ]
  },
  {
   "cell_type": "code",
   "execution_count": 116,
   "metadata": {},
   "outputs": [],
   "source": [
    "avengers_cleaned = avengers.copy().drop([\"has_energy_blasts\",\"has_enhanced_senses\",\"has_invulnerability\",\"has_stealth\",\"has_accelerated_healing\",\"has_intelligence\",\"has_electrokinesis\",\"has_energy_constructs\",\"has_mind_control\", \"has_matter_manipulation\",\"has_flight\",\"has_weapons_master\",\"has_reflexes\",\"has_telepathy\",\"has_regeneration\",\"has_immortality\",\"has_teleportation\",\"has_force_fields\", \"has_energy_manipulation\",\"has_endurance\",\"has_longevity\",\"has_weapon-based_powers\",\"has_marksmanship\",\"has_super_speed\",\"has_durability\",\"has_energy_absorption\",\"has_cold_resistance\",\"has_magic\",\"has_telekinesis\",\"has_energy_beams\",\"has_shapeshifting\",\"has_jump\",\"history_text\",\"has_mind_control_resistance\",\"has_enhanced_hearing\",\"has_telepathy_resistance\",\"has_dimensional_travel\",\"type_race\",\"gender\",\"eye_color\",\"img\",\"relatives\",\"teams\",\"hair_color\",\"skin_color\",\"has_element_control\",\"has_size_changing\",\"alter_egos\",\"aliases\",\"place_of_birth\",\"powers_text\",\"first_appearance\",\"alignment\",\"occupation\",\"base\",\"height\",\"weight\",\"has_fire_resistance\",\"has_self-sustenance\",\"has_peak_human_condition\",\"has_fire_control\",\"has_dexterity\",\"has_reality_warping\",\"has_illusions\",\"has_heat_resistance\", \"has_toxin_and_disease_resistance\",\"has_stamina\",\"has_agility\",\"has_super_strength\"],axis=1)"
   ]
  },
  {
   "cell_type": "code",
   "execution_count": 117,
   "metadata": {},
   "outputs": [
    {
     "data": {
      "text/html": [
       "<div>\n",
       "<style scoped>\n",
       "    .dataframe tbody tr th:only-of-type {\n",
       "        vertical-align: middle;\n",
       "    }\n",
       "\n",
       "    .dataframe tbody tr th {\n",
       "        vertical-align: top;\n",
       "    }\n",
       "\n",
       "    .dataframe thead th {\n",
       "        text-align: right;\n",
       "    }\n",
       "</style>\n",
       "<table border=\"1\" class=\"dataframe\">\n",
       "  <thead>\n",
       "    <tr style=\"text-align: right;\">\n",
       "      <th></th>\n",
       "      <th>intelligence_score</th>\n",
       "      <th>strength_score</th>\n",
       "      <th>speed_score</th>\n",
       "      <th>durability_score</th>\n",
       "      <th>power_score</th>\n",
       "      <th>combat_score</th>\n",
       "      <th>has_electrokinesis</th>\n",
       "      <th>has_energy_constructs</th>\n",
       "      <th>has_mind_control_resistance</th>\n",
       "      <th>has_matter_manipulation</th>\n",
       "      <th>...</th>\n",
       "      <th>has_flight</th>\n",
       "      <th>has_accelerated_healing</th>\n",
       "      <th>has_weapons_master</th>\n",
       "      <th>has_intelligence</th>\n",
       "      <th>has_reflexes</th>\n",
       "      <th>has_super_speed</th>\n",
       "      <th>has_durability</th>\n",
       "      <th>has_stamina</th>\n",
       "      <th>has_agility</th>\n",
       "      <th>has_super_strength</th>\n",
       "    </tr>\n",
       "  </thead>\n",
       "  <tbody>\n",
       "    <tr>\n",
       "      <th>count</th>\n",
       "      <td>1450.000000</td>\n",
       "      <td>1450.000000</td>\n",
       "      <td>1450.000000</td>\n",
       "      <td>1450.000000</td>\n",
       "      <td>1450.000000</td>\n",
       "      <td>1450.000000</td>\n",
       "      <td>1383.000000</td>\n",
       "      <td>1383.000000</td>\n",
       "      <td>1383.000000</td>\n",
       "      <td>1383.000000</td>\n",
       "      <td>...</td>\n",
       "      <td>1383.000000</td>\n",
       "      <td>1383.000000</td>\n",
       "      <td>1383.000000</td>\n",
       "      <td>1383.000000</td>\n",
       "      <td>1383.000000</td>\n",
       "      <td>1383.000000</td>\n",
       "      <td>1383.000000</td>\n",
       "      <td>1383.000000</td>\n",
       "      <td>1383.000000</td>\n",
       "      <td>1383.000000</td>\n",
       "    </tr>\n",
       "    <tr>\n",
       "      <th>mean</th>\n",
       "      <td>79.103448</td>\n",
       "      <td>39.458621</td>\n",
       "      <td>46.389655</td>\n",
       "      <td>56.193103</td>\n",
       "      <td>66.913793</td>\n",
       "      <td>68.175862</td>\n",
       "      <td>0.090383</td>\n",
       "      <td>0.076645</td>\n",
       "      <td>0.075922</td>\n",
       "      <td>0.050615</td>\n",
       "      <td>...</td>\n",
       "      <td>0.266811</td>\n",
       "      <td>0.308026</td>\n",
       "      <td>0.409978</td>\n",
       "      <td>0.433116</td>\n",
       "      <td>0.428778</td>\n",
       "      <td>0.386840</td>\n",
       "      <td>0.511931</td>\n",
       "      <td>0.532899</td>\n",
       "      <td>0.562545</td>\n",
       "      <td>0.528561</td>\n",
       "    </tr>\n",
       "    <tr>\n",
       "      <th>std</th>\n",
       "      <td>25.048393</td>\n",
       "      <td>34.385566</td>\n",
       "      <td>29.205902</td>\n",
       "      <td>31.647711</td>\n",
       "      <td>33.225127</td>\n",
       "      <td>29.540420</td>\n",
       "      <td>0.286834</td>\n",
       "      <td>0.266124</td>\n",
       "      <td>0.264969</td>\n",
       "      <td>0.219289</td>\n",
       "      <td>...</td>\n",
       "      <td>0.442453</td>\n",
       "      <td>0.461844</td>\n",
       "      <td>0.492007</td>\n",
       "      <td>0.495686</td>\n",
       "      <td>0.495080</td>\n",
       "      <td>0.487203</td>\n",
       "      <td>0.500038</td>\n",
       "      <td>0.499097</td>\n",
       "      <td>0.496252</td>\n",
       "      <td>0.499364</td>\n",
       "    </tr>\n",
       "    <tr>\n",
       "      <th>min</th>\n",
       "      <td>0.000000</td>\n",
       "      <td>0.000000</td>\n",
       "      <td>0.000000</td>\n",
       "      <td>0.000000</td>\n",
       "      <td>0.000000</td>\n",
       "      <td>0.000000</td>\n",
       "      <td>0.000000</td>\n",
       "      <td>0.000000</td>\n",
       "      <td>0.000000</td>\n",
       "      <td>0.000000</td>\n",
       "      <td>...</td>\n",
       "      <td>0.000000</td>\n",
       "      <td>0.000000</td>\n",
       "      <td>0.000000</td>\n",
       "      <td>0.000000</td>\n",
       "      <td>0.000000</td>\n",
       "      <td>0.000000</td>\n",
       "      <td>0.000000</td>\n",
       "      <td>0.000000</td>\n",
       "      <td>0.000000</td>\n",
       "      <td>0.000000</td>\n",
       "    </tr>\n",
       "    <tr>\n",
       "      <th>25%</th>\n",
       "      <td>75.000000</td>\n",
       "      <td>10.000000</td>\n",
       "      <td>25.000000</td>\n",
       "      <td>30.000000</td>\n",
       "      <td>40.000000</td>\n",
       "      <td>55.000000</td>\n",
       "      <td>0.000000</td>\n",
       "      <td>0.000000</td>\n",
       "      <td>0.000000</td>\n",
       "      <td>0.000000</td>\n",
       "      <td>...</td>\n",
       "      <td>0.000000</td>\n",
       "      <td>0.000000</td>\n",
       "      <td>0.000000</td>\n",
       "      <td>0.000000</td>\n",
       "      <td>0.000000</td>\n",
       "      <td>0.000000</td>\n",
       "      <td>0.000000</td>\n",
       "      <td>0.000000</td>\n",
       "      <td>0.000000</td>\n",
       "      <td>0.000000</td>\n",
       "    </tr>\n",
       "    <tr>\n",
       "      <th>50%</th>\n",
       "      <td>85.000000</td>\n",
       "      <td>30.000000</td>\n",
       "      <td>40.000000</td>\n",
       "      <td>55.000000</td>\n",
       "      <td>72.500000</td>\n",
       "      <td>75.000000</td>\n",
       "      <td>0.000000</td>\n",
       "      <td>0.000000</td>\n",
       "      <td>0.000000</td>\n",
       "      <td>0.000000</td>\n",
       "      <td>...</td>\n",
       "      <td>0.000000</td>\n",
       "      <td>0.000000</td>\n",
       "      <td>0.000000</td>\n",
       "      <td>0.000000</td>\n",
       "      <td>0.000000</td>\n",
       "      <td>0.000000</td>\n",
       "      <td>1.000000</td>\n",
       "      <td>1.000000</td>\n",
       "      <td>1.000000</td>\n",
       "      <td>1.000000</td>\n",
       "    </tr>\n",
       "    <tr>\n",
       "      <th>75%</th>\n",
       "      <td>95.000000</td>\n",
       "      <td>65.000000</td>\n",
       "      <td>65.000000</td>\n",
       "      <td>85.000000</td>\n",
       "      <td>100.000000</td>\n",
       "      <td>90.000000</td>\n",
       "      <td>0.000000</td>\n",
       "      <td>0.000000</td>\n",
       "      <td>0.000000</td>\n",
       "      <td>0.000000</td>\n",
       "      <td>...</td>\n",
       "      <td>1.000000</td>\n",
       "      <td>1.000000</td>\n",
       "      <td>1.000000</td>\n",
       "      <td>1.000000</td>\n",
       "      <td>1.000000</td>\n",
       "      <td>1.000000</td>\n",
       "      <td>1.000000</td>\n",
       "      <td>1.000000</td>\n",
       "      <td>1.000000</td>\n",
       "      <td>1.000000</td>\n",
       "    </tr>\n",
       "    <tr>\n",
       "      <th>max</th>\n",
       "      <td>100.000000</td>\n",
       "      <td>100.000000</td>\n",
       "      <td>100.000000</td>\n",
       "      <td>100.000000</td>\n",
       "      <td>100.000000</td>\n",
       "      <td>100.000000</td>\n",
       "      <td>1.000000</td>\n",
       "      <td>1.000000</td>\n",
       "      <td>1.000000</td>\n",
       "      <td>1.000000</td>\n",
       "      <td>...</td>\n",
       "      <td>1.000000</td>\n",
       "      <td>1.000000</td>\n",
       "      <td>1.000000</td>\n",
       "      <td>1.000000</td>\n",
       "      <td>1.000000</td>\n",
       "      <td>1.000000</td>\n",
       "      <td>1.000000</td>\n",
       "      <td>1.000000</td>\n",
       "      <td>1.000000</td>\n",
       "      <td>1.000000</td>\n",
       "    </tr>\n",
       "  </tbody>\n",
       "</table>\n",
       "<p>8 rows × 56 columns</p>\n",
       "</div>"
      ],
      "text/plain": [
       "       intelligence_score  strength_score  speed_score  durability_score  \\\n",
       "count         1450.000000     1450.000000  1450.000000       1450.000000   \n",
       "mean            79.103448       39.458621    46.389655         56.193103   \n",
       "std             25.048393       34.385566    29.205902         31.647711   \n",
       "min              0.000000        0.000000     0.000000          0.000000   \n",
       "25%             75.000000       10.000000    25.000000         30.000000   \n",
       "50%             85.000000       30.000000    40.000000         55.000000   \n",
       "75%             95.000000       65.000000    65.000000         85.000000   \n",
       "max            100.000000      100.000000   100.000000        100.000000   \n",
       "\n",
       "       power_score  combat_score  has_electrokinesis  has_energy_constructs  \\\n",
       "count  1450.000000   1450.000000         1383.000000            1383.000000   \n",
       "mean     66.913793     68.175862            0.090383               0.076645   \n",
       "std      33.225127     29.540420            0.286834               0.266124   \n",
       "min       0.000000      0.000000            0.000000               0.000000   \n",
       "25%      40.000000     55.000000            0.000000               0.000000   \n",
       "50%      72.500000     75.000000            0.000000               0.000000   \n",
       "75%     100.000000     90.000000            0.000000               0.000000   \n",
       "max     100.000000    100.000000            1.000000               1.000000   \n",
       "\n",
       "       has_mind_control_resistance  has_matter_manipulation  ...   has_flight  \\\n",
       "count                  1383.000000              1383.000000  ...  1383.000000   \n",
       "mean                      0.075922                 0.050615  ...     0.266811   \n",
       "std                       0.264969                 0.219289  ...     0.442453   \n",
       "min                       0.000000                 0.000000  ...     0.000000   \n",
       "25%                       0.000000                 0.000000  ...     0.000000   \n",
       "50%                       0.000000                 0.000000  ...     0.000000   \n",
       "75%                       0.000000                 0.000000  ...     1.000000   \n",
       "max                       1.000000                 1.000000  ...     1.000000   \n",
       "\n",
       "       has_accelerated_healing  has_weapons_master  has_intelligence  \\\n",
       "count              1383.000000         1383.000000       1383.000000   \n",
       "mean                  0.308026            0.409978          0.433116   \n",
       "std                   0.461844            0.492007          0.495686   \n",
       "min                   0.000000            0.000000          0.000000   \n",
       "25%                   0.000000            0.000000          0.000000   \n",
       "50%                   0.000000            0.000000          0.000000   \n",
       "75%                   1.000000            1.000000          1.000000   \n",
       "max                   1.000000            1.000000          1.000000   \n",
       "\n",
       "       has_reflexes  has_super_speed  has_durability  has_stamina  \\\n",
       "count   1383.000000      1383.000000     1383.000000  1383.000000   \n",
       "mean       0.428778         0.386840        0.511931     0.532899   \n",
       "std        0.495080         0.487203        0.500038     0.499097   \n",
       "min        0.000000         0.000000        0.000000     0.000000   \n",
       "25%        0.000000         0.000000        0.000000     0.000000   \n",
       "50%        0.000000         0.000000        1.000000     1.000000   \n",
       "75%        1.000000         1.000000        1.000000     1.000000   \n",
       "max        1.000000         1.000000        1.000000     1.000000   \n",
       "\n",
       "       has_agility  has_super_strength  \n",
       "count  1383.000000         1383.000000  \n",
       "mean      0.562545            0.528561  \n",
       "std       0.496252            0.499364  \n",
       "min       0.000000            0.000000  \n",
       "25%       0.000000            0.000000  \n",
       "50%       1.000000            1.000000  \n",
       "75%       1.000000            1.000000  \n",
       "max       1.000000            1.000000  \n",
       "\n",
       "[8 rows x 56 columns]"
      ]
     },
     "execution_count": 117,
     "metadata": {},
     "output_type": "execute_result"
    }
   ],
   "source": [
    "avengers.nunique(axis=0)\n",
    "avengers.describe()"
   ]
  },
  {
   "cell_type": "code",
   "execution_count": 118,
   "metadata": {},
   "outputs": [
    {
     "data": {
      "text/plain": [
       "(843, 12)"
      ]
     },
     "execution_count": 118,
     "metadata": {},
     "output_type": "execute_result"
    }
   ],
   "source": [
    "avengers_cleaned = avengers_cleaned.dropna(axis=0)\n",
    "avengers_cleaned.shape"
   ]
  },
  {
   "cell_type": "markdown",
   "metadata": {},
   "source": [
    "The above data now only contains superheroes with positive integers in all columns"
   ]
  },
  {
   "cell_type": "markdown",
   "metadata": {},
   "source": [
    "I will now clean up the rows so that only superheroes who score in the 75% of strength score remain"
   ]
  },
  {
   "cell_type": "code",
   "execution_count": 119,
   "metadata": {},
   "outputs": [],
   "source": [
    "avengers1 = avengers_cleaned[avengers_cleaned[\"strength_score\"].between(95, 100)]"
   ]
  },
  {
   "cell_type": "code",
   "execution_count": 120,
   "metadata": {},
   "outputs": [
    {
     "data": {
      "text/html": [
       "<div>\n",
       "<style scoped>\n",
       "    .dataframe tbody tr th:only-of-type {\n",
       "        vertical-align: middle;\n",
       "    }\n",
       "\n",
       "    .dataframe tbody tr th {\n",
       "        vertical-align: top;\n",
       "    }\n",
       "\n",
       "    .dataframe thead th {\n",
       "        text-align: right;\n",
       "    }\n",
       "</style>\n",
       "<table border=\"1\" class=\"dataframe\">\n",
       "  <thead>\n",
       "    <tr style=\"text-align: right;\">\n",
       "      <th></th>\n",
       "      <th>intelligence_score</th>\n",
       "      <th>strength_score</th>\n",
       "      <th>speed_score</th>\n",
       "      <th>durability_score</th>\n",
       "      <th>power_score</th>\n",
       "      <th>combat_score</th>\n",
       "    </tr>\n",
       "  </thead>\n",
       "  <tbody>\n",
       "    <tr>\n",
       "      <th>count</th>\n",
       "      <td>109.000000</td>\n",
       "      <td>109.000000</td>\n",
       "      <td>109.000000</td>\n",
       "      <td>109.000000</td>\n",
       "      <td>109.000000</td>\n",
       "      <td>109.000000</td>\n",
       "    </tr>\n",
       "    <tr>\n",
       "      <th>mean</th>\n",
       "      <td>87.889908</td>\n",
       "      <td>99.357798</td>\n",
       "      <td>88.027523</td>\n",
       "      <td>95.917431</td>\n",
       "      <td>97.431193</td>\n",
       "      <td>84.541284</td>\n",
       "    </tr>\n",
       "    <tr>\n",
       "      <th>std</th>\n",
       "      <td>12.606832</td>\n",
       "      <td>1.680625</td>\n",
       "      <td>18.880942</td>\n",
       "      <td>9.934161</td>\n",
       "      <td>9.827557</td>\n",
       "      <td>16.109310</td>\n",
       "    </tr>\n",
       "    <tr>\n",
       "      <th>min</th>\n",
       "      <td>40.000000</td>\n",
       "      <td>95.000000</td>\n",
       "      <td>15.000000</td>\n",
       "      <td>30.000000</td>\n",
       "      <td>25.000000</td>\n",
       "      <td>30.000000</td>\n",
       "    </tr>\n",
       "    <tr>\n",
       "      <th>25%</th>\n",
       "      <td>80.000000</td>\n",
       "      <td>100.000000</td>\n",
       "      <td>80.000000</td>\n",
       "      <td>100.000000</td>\n",
       "      <td>100.000000</td>\n",
       "      <td>75.000000</td>\n",
       "    </tr>\n",
       "    <tr>\n",
       "      <th>50%</th>\n",
       "      <td>90.000000</td>\n",
       "      <td>100.000000</td>\n",
       "      <td>100.000000</td>\n",
       "      <td>100.000000</td>\n",
       "      <td>100.000000</td>\n",
       "      <td>85.000000</td>\n",
       "    </tr>\n",
       "    <tr>\n",
       "      <th>75%</th>\n",
       "      <td>100.000000</td>\n",
       "      <td>100.000000</td>\n",
       "      <td>100.000000</td>\n",
       "      <td>100.000000</td>\n",
       "      <td>100.000000</td>\n",
       "      <td>100.000000</td>\n",
       "    </tr>\n",
       "    <tr>\n",
       "      <th>max</th>\n",
       "      <td>100.000000</td>\n",
       "      <td>100.000000</td>\n",
       "      <td>100.000000</td>\n",
       "      <td>100.000000</td>\n",
       "      <td>100.000000</td>\n",
       "      <td>100.000000</td>\n",
       "    </tr>\n",
       "  </tbody>\n",
       "</table>\n",
       "</div>"
      ],
      "text/plain": [
       "       intelligence_score  strength_score  speed_score  durability_score  \\\n",
       "count          109.000000      109.000000   109.000000        109.000000   \n",
       "mean            87.889908       99.357798    88.027523         95.917431   \n",
       "std             12.606832        1.680625    18.880942          9.934161   \n",
       "min             40.000000       95.000000    15.000000         30.000000   \n",
       "25%             80.000000      100.000000    80.000000        100.000000   \n",
       "50%             90.000000      100.000000   100.000000        100.000000   \n",
       "75%            100.000000      100.000000   100.000000        100.000000   \n",
       "max            100.000000      100.000000   100.000000        100.000000   \n",
       "\n",
       "       power_score  combat_score  \n",
       "count   109.000000    109.000000  \n",
       "mean     97.431193     84.541284  \n",
       "std       9.827557     16.109310  \n",
       "min      25.000000     30.000000  \n",
       "25%     100.000000     75.000000  \n",
       "50%     100.000000     85.000000  \n",
       "75%     100.000000    100.000000  \n",
       "max     100.000000    100.000000  "
      ]
     },
     "execution_count": 120,
     "metadata": {},
     "output_type": "execute_result"
    }
   ],
   "source": [
    "avengers1.nunique(axis=0)\n",
    "avengers1.describe()"
   ]
  },
  {
   "cell_type": "markdown",
   "metadata": {},
   "source": [
    "When you adjust for just the strenght score you still see all of the score means increasing, indicating that a high strength score is positively correlated to having high scores across the board "
   ]
  },
  {
   "cell_type": "code",
   "execution_count": 121,
   "metadata": {},
   "outputs": [
    {
     "data": {
      "text/plain": [
       "Text(0.5, 1.0, 'Relationship Between Individual Score Catagories')"
      ]
     },
     "execution_count": 121,
     "metadata": {},
     "output_type": "execute_result"
    },
    {
     "data": {
      "image/png": "[encoded data removed]",
      "text/plain": [
       "<Figure size 432x288 with 2 Axes>"
      ]
     },
     "metadata": {
      "needs_background": "light"
     },
     "output_type": "display_data"
    }
   ],
   "source": [
    "corr = avengers1.corr()\n",
    "corrmap = sns.heatmap(corr, xticklabels=corr.columns, yticklabels=corr.columns, annot=True, cmap=sns.diverging_palette(220, 20, as_cmap=True))\n",
    "corrmap.set_title(\"Relationship Between Individual Score Catagories\")"
   ]
  },
  {
   "cell_type": "markdown",
   "metadata": {},
   "source": [
    "As expected by previous findings, there is a fairly strong correlation between strength scores and all other scores"
   ]
  },
  {
   "cell_type": "markdown",
   "metadata": {},
   "source": [
    "I will now adjust all other scores to the 95-100 range, to see the effect on the overall scores and see if we can narrow down to our ultimate avengers team"
   ]
  },
  {
   "cell_type": "code",
   "execution_count": 122,
   "metadata": {},
   "outputs": [],
   "source": [
    "avengers2 = avengers1[avengers1[\"power_score\"].between(95, 100)]"
   ]
  },
  {
   "cell_type": "code",
   "execution_count": 123,
   "metadata": {},
   "outputs": [],
   "source": [
    "avengers3 = avengers2[avengers2[\"speed_score\"].between(95, 100)]"
   ]
  },
  {
   "cell_type": "code",
   "execution_count": 124,
   "metadata": {},
   "outputs": [],
   "source": [
    "avengers4 = avengers3[avengers3[\"combat_score\"].between(95, 100)]"
   ]
  },
  {
   "cell_type": "code",
   "execution_count": 125,
   "metadata": {},
   "outputs": [],
   "source": [
    "avengers5 = avengers4[avengers4[\"intelligence_score\"].between(95, 100)]"
   ]
  },
  {
   "cell_type": "code",
   "execution_count": 126,
   "metadata": {},
   "outputs": [
    {
     "data": {
      "text/html": [
       "<div>\n",
       "<style scoped>\n",
       "    .dataframe tbody tr th:only-of-type {\n",
       "        vertical-align: middle;\n",
       "    }\n",
       "\n",
       "    .dataframe tbody tr th {\n",
       "        vertical-align: top;\n",
       "    }\n",
       "\n",
       "    .dataframe thead th {\n",
       "        text-align: right;\n",
       "    }\n",
       "</style>\n",
       "<table border=\"1\" class=\"dataframe\">\n",
       "  <thead>\n",
       "    <tr style=\"text-align: right;\">\n",
       "      <th></th>\n",
       "      <th>name</th>\n",
       "      <th>real_name</th>\n",
       "      <th>full_name</th>\n",
       "      <th>overall_score</th>\n",
       "      <th>intelligence_score</th>\n",
       "      <th>strength_score</th>\n",
       "      <th>speed_score</th>\n",
       "      <th>durability_score</th>\n",
       "      <th>power_score</th>\n",
       "      <th>combat_score</th>\n",
       "      <th>superpowers</th>\n",
       "      <th>creator</th>\n",
       "    </tr>\n",
       "  </thead>\n",
       "  <tbody>\n",
       "    <tr>\n",
       "      <th>11</th>\n",
       "      <td>Abraxas</td>\n",
       "      <td>Abraxas</td>\n",
       "      <td>Abraxas</td>\n",
       "      <td>∞</td>\n",
       "      <td>100</td>\n",
       "      <td>100</td>\n",
       "      <td>100</td>\n",
       "      <td>100</td>\n",
       "      <td>100</td>\n",
       "      <td>100</td>\n",
       "      <td>['Dimensional Awareness', 'Dimensional Travel'...</td>\n",
       "      <td>Marvel Comics</td>\n",
       "    </tr>\n",
       "    <tr>\n",
       "      <th>324</th>\n",
       "      <td>Cosmic King Thor</td>\n",
       "      <td>Thor Odinson</td>\n",
       "      <td>Thor Odinson</td>\n",
       "      <td>117</td>\n",
       "      <td>100</td>\n",
       "      <td>100</td>\n",
       "      <td>100</td>\n",
       "      <td>100</td>\n",
       "      <td>100</td>\n",
       "      <td>100</td>\n",
       "      <td>['Accelerated Healing', 'Acrobatics', 'Agility...</td>\n",
       "      <td>Marvel Comics</td>\n",
       "    </tr>\n",
       "    <tr>\n",
       "      <th>510</th>\n",
       "      <td>General Zod</td>\n",
       "      <td>Dru-Zod</td>\n",
       "      <td>Dru-Zod</td>\n",
       "      <td>18</td>\n",
       "      <td>95</td>\n",
       "      <td>100</td>\n",
       "      <td>95</td>\n",
       "      <td>100</td>\n",
       "      <td>100</td>\n",
       "      <td>95</td>\n",
       "      <td>['Accelerated Healing', 'Durability', 'Energy ...</td>\n",
       "      <td>DC Comics</td>\n",
       "    </tr>\n",
       "    <tr>\n",
       "      <th>527</th>\n",
       "      <td>Golden Ninja</td>\n",
       "      <td>Lloyd Garmadon</td>\n",
       "      <td>LLoyd Montgomery Garmadon</td>\n",
       "      <td>226</td>\n",
       "      <td>100</td>\n",
       "      <td>100</td>\n",
       "      <td>100</td>\n",
       "      <td>100</td>\n",
       "      <td>100</td>\n",
       "      <td>100</td>\n",
       "      <td>['Acausality', 'Accelerated Healing', 'Age Man...</td>\n",
       "      <td>Lego</td>\n",
       "    </tr>\n",
       "    <tr>\n",
       "      <th>845</th>\n",
       "      <td>Man Of Miracles</td>\n",
       "      <td>Mother Of Existence</td>\n",
       "      <td>Mother Of Existence</td>\n",
       "      <td>∞</td>\n",
       "      <td>100</td>\n",
       "      <td>100</td>\n",
       "      <td>100</td>\n",
       "      <td>100</td>\n",
       "      <td>100</td>\n",
       "      <td>100</td>\n",
       "      <td>['Absorption', 'Agility', 'Animal Control', 'C...</td>\n",
       "      <td>Image Comics</td>\n",
       "    </tr>\n",
       "    <tr>\n",
       "      <th>882</th>\n",
       "      <td>Michael Demiurgos</td>\n",
       "      <td>Michael Demiurgos</td>\n",
       "      <td>Michael Demiurgos</td>\n",
       "      <td>∞</td>\n",
       "      <td>100</td>\n",
       "      <td>100</td>\n",
       "      <td>100</td>\n",
       "      <td>100</td>\n",
       "      <td>100</td>\n",
       "      <td>100</td>\n",
       "      <td>['Acausality', 'Accelerated Healing', 'Agility...</td>\n",
       "      <td>DC Comics</td>\n",
       "    </tr>\n",
       "    <tr>\n",
       "      <th>912</th>\n",
       "      <td>Monarch</td>\n",
       "      <td>Nathaniel Christopher Adam</td>\n",
       "      <td>Nathaniel Christopher Adam</td>\n",
       "      <td>54</td>\n",
       "      <td>95</td>\n",
       "      <td>100</td>\n",
       "      <td>95</td>\n",
       "      <td>100</td>\n",
       "      <td>100</td>\n",
       "      <td>100</td>\n",
       "      <td>['Agility', 'Astral Projection', 'Camouflage',...</td>\n",
       "      <td>DC Comics</td>\n",
       "    </tr>\n",
       "    <tr>\n",
       "      <th>976</th>\n",
       "      <td>Old King Thor</td>\n",
       "      <td>Thor Odinson</td>\n",
       "      <td>Thor Odinson</td>\n",
       "      <td>100</td>\n",
       "      <td>100</td>\n",
       "      <td>100</td>\n",
       "      <td>100</td>\n",
       "      <td>100</td>\n",
       "      <td>100</td>\n",
       "      <td>100</td>\n",
       "      <td>['Absorption', 'Accelerated Healing', 'Agility...</td>\n",
       "      <td>Marvel Comics</td>\n",
       "    </tr>\n",
       "    <tr>\n",
       "      <th>983</th>\n",
       "      <td>One-Above-All</td>\n",
       "      <td>The One-Above-All</td>\n",
       "      <td>The One-Above-All</td>\n",
       "      <td>125</td>\n",
       "      <td>100</td>\n",
       "      <td>100</td>\n",
       "      <td>100</td>\n",
       "      <td>100</td>\n",
       "      <td>100</td>\n",
       "      <td>100</td>\n",
       "      <td>['Astral Projection', 'Conceptual Manipulation...</td>\n",
       "      <td>Marvel Comics</td>\n",
       "    </tr>\n",
       "    <tr>\n",
       "      <th>1053</th>\n",
       "      <td>Ragnarok</td>\n",
       "      <td>Ragnarok</td>\n",
       "      <td>/</td>\n",
       "      <td>27</td>\n",
       "      <td>100</td>\n",
       "      <td>100</td>\n",
       "      <td>100</td>\n",
       "      <td>100</td>\n",
       "      <td>100</td>\n",
       "      <td>100</td>\n",
       "      <td>['Accelerated Healing', 'Cold Resistance', 'Du...</td>\n",
       "      <td>Marvel Comics</td>\n",
       "    </tr>\n",
       "    <tr>\n",
       "      <th>1156</th>\n",
       "      <td>Shazam (DCEU)</td>\n",
       "      <td>Billy Batson</td>\n",
       "      <td>William Batson</td>\n",
       "      <td>18</td>\n",
       "      <td>100</td>\n",
       "      <td>100</td>\n",
       "      <td>100</td>\n",
       "      <td>100</td>\n",
       "      <td>95</td>\n",
       "      <td>95</td>\n",
       "      <td>['Agility', 'Cold Resistance', 'Durability', '...</td>\n",
       "      <td>DC Comics</td>\n",
       "    </tr>\n",
       "    <tr>\n",
       "      <th>1337</th>\n",
       "      <td>True Form Oblivion</td>\n",
       "      <td>Oblivion</td>\n",
       "      <td>Oblivion</td>\n",
       "      <td>∞</td>\n",
       "      <td>100</td>\n",
       "      <td>100</td>\n",
       "      <td>100</td>\n",
       "      <td>100</td>\n",
       "      <td>100</td>\n",
       "      <td>100</td>\n",
       "      <td>['Accelerated Healing', 'Adaptation', 'Age Man...</td>\n",
       "      <td>Marvel Comics</td>\n",
       "    </tr>\n",
       "  </tbody>\n",
       "</table>\n",
       "</div>"
      ],
      "text/plain": [
       "                    name                   real_name  \\\n",
       "11               Abraxas                     Abraxas   \n",
       "324     Cosmic King Thor                Thor Odinson   \n",
       "510          General Zod                     Dru-Zod   \n",
       "527         Golden Ninja              Lloyd Garmadon   \n",
       "845      Man Of Miracles         Mother Of Existence   \n",
       "882    Michael Demiurgos           Michael Demiurgos   \n",
       "912              Monarch  Nathaniel Christopher Adam   \n",
       "976        Old King Thor                Thor Odinson   \n",
       "983        One-Above-All           The One-Above-All   \n",
       "1053            Ragnarok                    Ragnarok   \n",
       "1156       Shazam (DCEU)                Billy Batson   \n",
       "1337  True Form Oblivion                    Oblivion   \n",
       "\n",
       "                       full_name overall_score  intelligence_score  \\\n",
       "11                       Abraxas             ∞                 100   \n",
       "324                 Thor Odinson           117                 100   \n",
       "510                      Dru-Zod            18                  95   \n",
       "527    LLoyd Montgomery Garmadon           226                 100   \n",
       "845          Mother Of Existence             ∞                 100   \n",
       "882            Michael Demiurgos             ∞                 100   \n",
       "912   Nathaniel Christopher Adam            54                  95   \n",
       "976                 Thor Odinson           100                 100   \n",
       "983            The One-Above-All           125                 100   \n",
       "1053                           /            27                 100   \n",
       "1156              William Batson            18                 100   \n",
       "1337                    Oblivion             ∞                 100   \n",
       "\n",
       "      strength_score  speed_score  durability_score  power_score  \\\n",
       "11               100          100               100          100   \n",
       "324              100          100               100          100   \n",
       "510              100           95               100          100   \n",
       "527              100          100               100          100   \n",
       "845              100          100               100          100   \n",
       "882              100          100               100          100   \n",
       "912              100           95               100          100   \n",
       "976              100          100               100          100   \n",
       "983              100          100               100          100   \n",
       "1053             100          100               100          100   \n",
       "1156             100          100               100           95   \n",
       "1337             100          100               100          100   \n",
       "\n",
       "      combat_score                                        superpowers  \\\n",
       "11             100  ['Dimensional Awareness', 'Dimensional Travel'...   \n",
       "324            100  ['Accelerated Healing', 'Acrobatics', 'Agility...   \n",
       "510             95  ['Accelerated Healing', 'Durability', 'Energy ...   \n",
       "527            100  ['Acausality', 'Accelerated Healing', 'Age Man...   \n",
       "845            100  ['Absorption', 'Agility', 'Animal Control', 'C...   \n",
       "882            100  ['Acausality', 'Accelerated Healing', 'Agility...   \n",
       "912            100  ['Agility', 'Astral Projection', 'Camouflage',...   \n",
       "976            100  ['Absorption', 'Accelerated Healing', 'Agility...   \n",
       "983            100  ['Astral Projection', 'Conceptual Manipulation...   \n",
       "1053           100  ['Accelerated Healing', 'Cold Resistance', 'Du...   \n",
       "1156            95  ['Agility', 'Cold Resistance', 'Durability', '...   \n",
       "1337           100  ['Accelerated Healing', 'Adaptation', 'Age Man...   \n",
       "\n",
       "            creator  \n",
       "11    Marvel Comics  \n",
       "324   Marvel Comics  \n",
       "510       DC Comics  \n",
       "527            Lego  \n",
       "845    Image Comics  \n",
       "882       DC Comics  \n",
       "912       DC Comics  \n",
       "976   Marvel Comics  \n",
       "983   Marvel Comics  \n",
       "1053  Marvel Comics  \n",
       "1156      DC Comics  \n",
       "1337  Marvel Comics  "
      ]
     },
     "execution_count": 126,
     "metadata": {},
     "output_type": "execute_result"
    }
   ],
   "source": [
    "avengers6 = avengers5[avengers5[\"durability_score\"].between(95, 100)]\n",
    "avengers6"
   ]
  },
  {
   "cell_type": "markdown",
   "metadata": {},
   "source": [
    "I am surprised that the only original avenger to make it onto this Ultimate Avengers Team is Thor (and it is more high powered versions of Thor that do make it on - not the version we see in the Marvel Avengers movie series). I am also suprirsed that a couple of our final heros still have fairly low overall scores leading me to believe that there are other factors I cleaned out of the data that may have a strong impact on overall score."
   ]
  },
  {
   "cell_type": "code",
   "execution_count": 127,
   "metadata": {},
   "outputs": [
    {
     "data": {
      "text/plain": [
       "Text(0.5, 1.0, 'Power Score Frequency - Overall')"
      ]
     },
     "execution_count": 127,
     "metadata": {},
     "output_type": "execute_result"
    },
    {
     "data": {
      "image/png": "[encoded data removed]",
      "text/plain": [
       "<Figure size 1080x432 with 1 Axes>"
      ]
     },
     "metadata": {
      "needs_background": "light"
     },
     "output_type": "display_data"
    }
   ],
   "source": [
    "graph1 = avengers_cleaned[\"power_score\"].plot(kind='hist', bins=20, figsize=(15,6), facecolor='purple',edgecolor=\"white\")\n",
    "graph1.set_title(\"Power Score Frequency - Overall\")"
   ]
  },
  {
   "cell_type": "code",
   "execution_count": 128,
   "metadata": {},
   "outputs": [
    {
     "data": {
      "text/plain": [
       "Text(0.5, 1.0, 'Power Score Frequency - Top 109 Strongest Superheroes')"
      ]
     },
     "execution_count": 128,
     "metadata": {},
     "output_type": "execute_result"
    },
    {
     "data": {
      "image/png": "[encoded data removed]",
      "text/plain": [
       "<Figure size 1080x432 with 1 Axes>"
      ]
     },
     "metadata": {
      "needs_background": "light"
     },
     "output_type": "display_data"
    }
   ],
   "source": [
    "graph1b = avengers1[\"power_score\"].plot(kind='hist', bins=20, figsize=(15,6), facecolor=\"purple\",edgecolor=\"white\")\n",
    "graph1b.set_title(\"Power Score Frequency - Top 109 Strongest Superheroes\")"
   ]
  },
  {
   "cell_type": "code",
   "execution_count": 129,
   "metadata": {},
   "outputs": [
    {
     "data": {
      "text/plain": [
       "Text(0.5, 1.0, 'Intelligence Score Frequency - Overall')"
      ]
     },
     "execution_count": 129,
     "metadata": {},
     "output_type": "execute_result"
    },
    {
     "data": {
      "image/png": "[encoded data removed]",
      "text/plain": [
       "<Figure size 1080x432 with 1 Axes>"
      ]
     },
     "metadata": {
      "needs_background": "light"
     },
     "output_type": "display_data"
    }
   ],
   "source": [
    "graph2 = avengers_cleaned[\"intelligence_score\"].plot(kind='hist', bins=20, figsize=(15,6), facecolor=\"turquoise\",edgecolor=\"white\")\n",
    "graph2.set_title(\"Intelligence Score Frequency - Overall\")"
   ]
  },
  {
   "cell_type": "code",
   "execution_count": 130,
   "metadata": {},
   "outputs": [
    {
     "data": {
      "text/plain": [
       "Text(0.5, 1.0, 'Intelligence Score Frequency - Top 109 Strongest Superheroes')"
      ]
     },
     "execution_count": 130,
     "metadata": {},
     "output_type": "execute_result"
    },
    {
     "data": {
      "image/png": "[encoded data removed]",
      "text/plain": [
       "<Figure size 1080x432 with 1 Axes>"
      ]
     },
     "metadata": {
      "needs_background": "light"
     },
     "output_type": "display_data"
    }
   ],
   "source": [
    "graph2b = avengers1[\"intelligence_score\"].plot(kind='hist', bins=20, figsize=(15,6), facecolor=\"turquoise\",edgecolor=\"white\")\n",
    "graph2b.set_title(\"Intelligence Score Frequency - Top 109 Strongest Superheroes\")"
   ]
  },
  {
   "cell_type": "code",
   "execution_count": 131,
   "metadata": {},
   "outputs": [
    {
     "data": {
      "text/plain": [
       "Text(0.5, 1.0, 'Combat Score Frequency - Overall')"
      ]
     },
     "execution_count": 131,
     "metadata": {},
     "output_type": "execute_result"
    },
    {
     "data": {
      "image/png": "[encoded data removed]",
      "text/plain": [
       "<Figure size 1080x432 with 1 Axes>"
      ]
     },
     "metadata": {
      "needs_background": "light"
     },
     "output_type": "display_data"
    }
   ],
   "source": [
    "graph3 = avengers_cleaned[\"combat_score\"].plot(kind='hist', bins=20, figsize=(15,6), facecolor=\"orange\",edgecolor=\"white\")\n",
    "graph3.set_title(\"Combat Score Frequency - Overall\")"
   ]
  },
  {
   "cell_type": "code",
   "execution_count": 132,
   "metadata": {},
   "outputs": [
    {
     "data": {
      "text/plain": [
       "Text(0.5, 1.0, 'Combat Score Frequency - Top 109 Strongest Superheroes')"
      ]
     },
     "execution_count": 132,
     "metadata": {},
     "output_type": "execute_result"
    },
    {
     "data": {
      "image/png": "[encoded data removed]",
      "text/plain": [
       "<Figure size 1080x432 with 1 Axes>"
      ]
     },
     "metadata": {
      "needs_background": "light"
     },
     "output_type": "display_data"
    }
   ],
   "source": [
    "graph3a = avengers1[\"combat_score\"].plot(kind='hist', bins=20, figsize=(15,6), facecolor=\"orange\",edgecolor=\"white\")\n",
    "graph3a.set_title(\"Combat Score Frequency - Top 109 Strongest Superheroes\")"
   ]
  },
  {
   "cell_type": "code",
   "execution_count": 133,
   "metadata": {},
   "outputs": [
    {
     "data": {
      "text/plain": [
       "Text(0.5, 1.0, 'Durability Score Frequency - Overall')"
      ]
     },
     "execution_count": 133,
     "metadata": {},
     "output_type": "execute_result"
    },
    {
     "data": {
      "image/png": "[encoded data removed]",
      "text/plain": [
       "<Figure size 1080x432 with 1 Axes>"
      ]
     },
     "metadata": {
      "needs_background": "light"
     },
     "output_type": "display_data"
    }
   ],
   "source": [
    "graph4 = avengers_cleaned[\"durability_score\"].plot(kind='hist', bins=20, figsize=(15,6), facecolor=\"green\",edgecolor=\"white\")\n",
    "graph4.set_title(\"Durability Score Frequency - Overall\")"
   ]
  },
  {
   "cell_type": "code",
   "execution_count": 134,
   "metadata": {},
   "outputs": [
    {
     "data": {
      "text/plain": [
       "Text(0.5, 1.0, 'Durability Score Frequency - Top 109 Strongest Superheroes')"
      ]
     },
     "execution_count": 134,
     "metadata": {},
     "output_type": "execute_result"
    },
    {
     "data": {
      "image/png": "[encoded data removed]",
      "text/plain": [
       "<Figure size 1080x432 with 1 Axes>"
      ]
     },
     "metadata": {
      "needs_background": "light"
     },
     "output_type": "display_data"
    }
   ],
   "source": [
    "graph4a = avengers1[\"durability_score\"].plot(kind='hist', bins=20, figsize=(15,6), facecolor=\"green\",edgecolor=\"white\")\n",
    "graph4a.set_title(\"Durability Score Frequency - Top 109 Strongest Superheroes\")"
   ]
  },
  {
   "cell_type": "code",
   "execution_count": 135,
   "metadata": {},
   "outputs": [
    {
     "data": {
      "text/plain": [
       "Text(0.5, 1.0, 'Speed Score Frequency - Overall')"
      ]
     },
     "execution_count": 135,
     "metadata": {},
     "output_type": "execute_result"
    },
    {
     "data": {
      "image/png": "[encoded data removed]",
      "text/plain": [
       "<Figure size 1080x432 with 1 Axes>"
      ]
     },
     "metadata": {
      "needs_background": "light"
     },
     "output_type": "display_data"
    }
   ],
   "source": [
    "graph5 = avengers_cleaned[\"speed_score\"].plot(kind='hist', bins=20, figsize=(15,6), facecolor=\"brown\",edgecolor=\"white\")\n",
    "graph5.set_title(\"Speed Score Frequency - Overall\")"
   ]
  },
  {
   "cell_type": "code",
   "execution_count": 136,
   "metadata": {},
   "outputs": [
    {
     "data": {
      "text/plain": [
       "Text(0.5, 1.0, 'Speed Score Frequency - Top 109 Strongest Superheroes')"
      ]
     },
     "execution_count": 136,
     "metadata": {},
     "output_type": "execute_result"
    },
    {
     "data": {
      "image/png": "[encoded data removed]",
      "text/plain": [
       "<Figure size 1080x432 with 1 Axes>"
      ]
     },
     "metadata": {
      "needs_background": "light"
     },
     "output_type": "display_data"
    }
   ],
   "source": [
    "graph5a = avengers1[\"speed_score\"].plot(kind='hist', bins=20, figsize=(15,6), facecolor=\"brown\",edgecolor=\"white\")\n",
    "graph5a.set_title(\"Speed Score Frequency - Top 109 Strongest Superheroes\")"
   ]
  },
  {
   "cell_type": "markdown",
   "metadata": {},
   "source": [
    "Based on comparing the frequency graphs for speed, power, intelligence, combat, and durability from the original cleaned dataframe, to the dataframe adjusted to include only superheroes scoring in the 95% tile, it is clear that a superhero that is higher in strength is more likely to have a higher score in the other catagories. However, the correlation is not incredibly strong as we can see that there are still low scores that come up. Unsurpisingly, power and combat appear to be the most highly correlated to strength."
   ]
  },
  {
   "cell_type": "markdown",
   "metadata": {},
   "source": [
    "The following graphs will now compare the overall score with the individual catagory score of the \"Ultimate Avengers Team\" - aka the superheroes who scored in the 95% tile in each individual catagories (power, intelligence, combat, speed, durability, strength)."
   ]
  },
  {
   "cell_type": "code",
   "execution_count": 137,
   "metadata": {},
   "outputs": [
    {
     "data": {
      "text/plain": [
       "<AxesSubplot:xlabel='overall_score', ylabel='power_score'>"
      ]
     },
     "execution_count": 137,
     "metadata": {},
     "output_type": "execute_result"
    },
    {
     "data": {
      "image/png": "[encoded data removed]",
      "text/plain": [
       "<Figure size 720x504 with 1 Axes>"
      ]
     },
     "metadata": {},
     "output_type": "display_data"
    }
   ],
   "source": [
    "sns.set(style=\"darkgrid\")\n",
    "plt.figure(figsize=(10, 7))\n",
    "sns.barplot(\n",
    "    x=\"overall_score\", \n",
    "    y=\"power_score\", \n",
    "    data=avengers6, \n",
    "    estimator=sum, \n",
    "    ci=None, \n",
    "    color=\"purple\")"
   ]
  },
  {
   "cell_type": "code",
   "execution_count": 138,
   "metadata": {},
   "outputs": [
    {
     "data": {
      "text/plain": [
       "<AxesSubplot:xlabel='overall_score', ylabel='intelligence_score'>"
      ]
     },
     "execution_count": 138,
     "metadata": {},
     "output_type": "execute_result"
    },
    {
     "data": {
      "image/png": "[encoded data removed]",
      "text/plain": [
       "<Figure size 720x504 with 1 Axes>"
      ]
     },
     "metadata": {},
     "output_type": "display_data"
    }
   ],
   "source": [
    "sns.set(style=\"darkgrid\")\n",
    "plt.figure(figsize=(10, 7))\n",
    "sns.barplot(\n",
    "    x=\"overall_score\", \n",
    "    y=\"intelligence_score\", \n",
    "    data=avengers6, \n",
    "    estimator=sum, \n",
    "    ci=None, \n",
    "    color=\"turquoise\")\n"
   ]
  },
  {
   "cell_type": "code",
   "execution_count": 139,
   "metadata": {},
   "outputs": [
    {
     "data": {
      "text/plain": [
       "<AxesSubplot:xlabel='overall_score', ylabel='combat_score'>"
      ]
     },
     "execution_count": 139,
     "metadata": {},
     "output_type": "execute_result"
    },
    {
     "data": {
      "image/png": "[encoded data removed]",
      "text/plain": [
       "<Figure size 720x504 with 1 Axes>"
      ]
     },
     "metadata": {},
     "output_type": "display_data"
    }
   ],
   "source": [
    "sns.set(style=\"darkgrid\")\n",
    "plt.figure(figsize=(10, 7))\n",
    "sns.barplot(\n",
    "    x=\"overall_score\", \n",
    "    y=\"combat_score\", \n",
    "    data=avengers6, \n",
    "    estimator=sum, \n",
    "    ci=None, \n",
    "    color=\"orange\")"
   ]
  },
  {
   "cell_type": "code",
   "execution_count": 140,
   "metadata": {},
   "outputs": [
    {
     "data": {
      "text/plain": [
       "<AxesSubplot:xlabel='overall_score', ylabel='durability_score'>"
      ]
     },
     "execution_count": 140,
     "metadata": {},
     "output_type": "execute_result"
    },
    {
     "data": {
      "image/png": "[encoded data removed]",
      "text/plain": [
       "<Figure size 720x504 with 1 Axes>"
      ]
     },
     "metadata": {},
     "output_type": "display_data"
    }
   ],
   "source": [
    "sns.set(style=\"darkgrid\")\n",
    "plt.figure(figsize=(10, 7))\n",
    "sns.barplot(\n",
    "    x=\"overall_score\", \n",
    "    y=\"durability_score\", \n",
    "    data=avengers6, \n",
    "    estimator=sum, \n",
    "    ci=None, \n",
    "    color=\"green\")"
   ]
  },
  {
   "cell_type": "code",
   "execution_count": 141,
   "metadata": {},
   "outputs": [
    {
     "data": {
      "text/plain": [
       "<AxesSubplot:xlabel='overall_score', ylabel='speed_score'>"
      ]
     },
     "execution_count": 141,
     "metadata": {},
     "output_type": "execute_result"
    },
    {
     "data": {
      "image/png": "[encoded data removed]",
      "text/plain": [
       "<Figure size 720x504 with 1 Axes>"
      ]
     },
     "metadata": {},
     "output_type": "display_data"
    }
   ],
   "source": [
    "sns.set(style=\"darkgrid\")\n",
    "plt.figure(figsize=(10, 7))\n",
    "sns.barplot(\n",
    "    x=\"overall_score\", \n",
    "    y=\"speed_score\", \n",
    "    data=avengers6, \n",
    "    estimator=sum, \n",
    "    ci=None, \n",
    "    color=\"brown\")"
   ]
  },
  {
   "cell_type": "code",
   "execution_count": 142,
   "metadata": {},
   "outputs": [
    {
     "data": {
      "text/plain": [
       "<AxesSubplot:xlabel='overall_score', ylabel='strength_score'>"
      ]
     },
     "execution_count": 142,
     "metadata": {},
     "output_type": "execute_result"
    },
    {
     "data": {
      "image/png": "[encoded data removed]",
      "text/plain": [
       "<Figure size 720x504 with 1 Axes>"
      ]
     },
     "metadata": {},
     "output_type": "display_data"
    }
   ],
   "source": [
    "sns.set(style=\"darkgrid\")\n",
    "plt.figure(figsize=(10, 7))\n",
    "sns.barplot(\n",
    "    x=\"overall_score\", \n",
    "    y=\"strength_score\", \n",
    "    data=avengers6, \n",
    "    estimator=sum, \n",
    "    ci=None, \n",
    "    color=\"yellow\")"
   ]
  },
  {
   "cell_type": "markdown",
   "metadata": {},
   "source": [
    "As is shown in these graphs, having high scores in the individual catagories (i.e. speed, strength, power, etc) does not mean that a superhero will have a high overall score. I find this super interesting because it means that there are other factors that have been cleaned out of my dataset that impact the overall score of the superheroes."
   ]
  },
  {
   "cell_type": "markdown",
   "metadata": {},
   "source": [
    "## Overall Findings and Answers to Research Questions\n",
    "I started this project wanting to find out 2 things: \n",
    "1. Which superheroes would make the Ultimate Avengers Team?\n",
    "- What I have found is that the way you decide to analyze and clean the data will impact which superheroes make it onto the Ultimate Avengers Team. I decided to analyze my data by narrowing it down to the superheroes that scores in the top 95% of each individual score catagory. Based on this parameter here is the \"Ultimate Avengers Team\":\n",
    "   - Abraxas\n",
    "   - Cosmic King Thor\n",
    "   - General Zod\n",
    "   - Golden Ninja\n",
    "   - Man of Miracles\n",
    "   - Michael Demiurgoes\n",
    "   - Monarch\n",
    "   - Old King Thor\n",
    "   - One-Above-All\n",
    "   - Ragnarok\n",
    "   - Shazam\n",
    "   - True Form Oblivion\n",
    "2. Which specific traits make one superheroe stronger (in overall score) than another.\n",
    "- The answer to this question is not as straight forward as the first one. Mainly because, according to my graphical analysis, the overall score is not strongly correlated to the individual scores. Taking a look at the overall scores of the superheroes on the \"Ultimate Avengers Team\", several of them have overall scores significantly below 100. Considering that each superhero on this list scored between 95 - 100 in each individual catagory, it is clear that the overall score is not a weighted average score of the individual catagory scores. The only strong correlation we see is that if a superhero scores high in one catagory, they are more likely to score higher in the other catagories, this finding is supported by what was shown by the frequency graphs. "
   ]
  },
  {
   "cell_type": "code",
   "execution_count": 143,
   "metadata": {},
   "outputs": [],
   "source": [
    "avengers1.to_csv('cleaned_Shiobhan.csv')"
   ]
  },
  {
   "cell_type": "code",
   "execution_count": 144,
   "metadata": {},
   "outputs": [],
   "source": [
    "avengers6.to_csv('cleaned_top12_Shiobhan.csv')"
   ]
  }
 ],
 "metadata": {
  "kernelspec": {
   "display_name": "Python 3",
   "language": "python",
   "name": "python3"
  },
  "language_info": {
   "codemirror_mode": {
    "name": "ipython",
    "version": 3
   },
   "file_extension": ".py",
   "mimetype": "text/x-python",
   "name": "python",
   "nbconvert_exporter": "python",
   "pygments_lexer": "ipython3",
   "version": "3.9.5"
  }
 },
 "nbformat": 4,
 "nbformat_minor": 4
}
